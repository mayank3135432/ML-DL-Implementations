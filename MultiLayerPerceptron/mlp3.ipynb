{
 "cells": [
  {
   "cell_type": "code",
   "execution_count": 1,
   "metadata": {},
   "outputs": [],
   "source": [
    "import numpy as np\n",
    "import pandas as pd\n",
    "import re\n",
    "from collections import Counter\n",
    "from sklearn.model_selection import train_test_split\n",
    "from sklearn.preprocessing import MultiLabelBinarizer\n",
    "from sklearn.metrics import accuracy_score, hamming_loss, f1_score\n",
    "import matplotlib.pyplot as plt"
   ]
  },
  {
   "cell_type": "code",
   "execution_count": 2,
   "metadata": {},
   "outputs": [],
   "source": [
    "# Data Preprocessing\n",
    "class DataProcessor:\n",
    "    def __init__(self, train_path, test_path, max_features=5000):\n",
    "        self.train_path = train_path\n",
    "        self.test_path = test_path\n",
    "        self.max_features = max_features\n",
    "        self.vocab = {}\n",
    "\n",
    "    def load_data(self, path):\n",
    "        df = pd.read_csv(path)\n",
    "        df.dropna(inplace=True)\n",
    "        df['category'] = df['category'].apply(lambda x: x.split(','))\n",
    "        return df\n",
    "\n",
    "    def tokenize(self, text):\n",
    "        text = re.sub(r'[^a-zA-Z0-9 ]', '', text.lower())\n",
    "        return text.split()\n",
    "\n",
    "    def build_vocab(self, texts):\n",
    "        counter = Counter()\n",
    "        for text in texts:\n",
    "            counter.update(self.tokenize(text))\n",
    "        self.vocab = {word: i for i, (word, _) in enumerate(counter.most_common(self.max_features))}\n",
    "\n",
    "    def compute_tfidf(self, texts):\n",
    "        tfidf_matrix = np.zeros((len(texts), self.max_features))\n",
    "        for i, text in enumerate(texts):\n",
    "            words = self.tokenize(text)\n",
    "            word_counts = Counter(words)\n",
    "            for word, count in word_counts.items():\n",
    "                if word in self.vocab:\n",
    "                    tfidf_matrix[i, self.vocab[word]] = count\n",
    "        return tfidf_matrix\n",
    "\n",
    "    def process_data(self):\n",
    "        train_df = self.load_data(self.train_path)\n",
    "        test_df = self.load_data(self.test_path)\n",
    "        \n",
    "        self.build_vocab(train_df['document'])\n",
    "        X_train = self.compute_tfidf(train_df['document'])\n",
    "        X_test = self.compute_tfidf(test_df['document'])\n",
    "        \n",
    "        mlb = MultiLabelBinarizer()\n",
    "        Y_train = mlb.fit_transform(train_df['category'])\n",
    "        Y_test = mlb.transform(test_df['category'])\n",
    "        \n",
    "        X_train, X_val, Y_train, Y_val = train_test_split(X_train, Y_train, test_size=0.2, random_state=42)\n",
    "        \n",
    "        return X_train, X_val, X_test, Y_train, Y_val, Y_test, mlb.classes_"
   ]
  },
  {
   "cell_type": "code",
   "execution_count": 3,
   "metadata": {},
   "outputs": [],
   "source": [
    "# MLP Model\n",
    "class MLP:\n",
    "    def __init__(self, input_size, hidden_layers, output_size, activation='relu', learning_rate=0.01):\n",
    "        self.learning_rate = learning_rate\n",
    "        self.activation = activation\n",
    "        \n",
    "        # Initialize layers\n",
    "        layer_sizes = [input_size] + hidden_layers + [output_size]\n",
    "        self.weights = [np.random.randn(layer_sizes[i], layer_sizes[i+1]) * 0.01 for i in range(len(layer_sizes) - 1)]\n",
    "        self.biases = [np.zeros((1, size)) for size in layer_sizes[1:]]\n",
    "    \n",
    "    def activate(self, x):\n",
    "        if self.activation == 'relu':\n",
    "            return np.maximum(0, x)\n",
    "        elif self.activation == 'sigmoid':\n",
    "            return 1 / (1 + np.exp(-x))\n",
    "        elif self.activation == 'tanh':\n",
    "            return np.tanh(x)\n",
    "        return x\n",
    "    \n",
    "    def activate_derivative(self, x):\n",
    "        if self.activation == 'relu':\n",
    "            return (x > 0).astype(float)\n",
    "        elif self.activation == 'sigmoid':\n",
    "            sig = self.activate(x)\n",
    "            return sig * (1 - sig)\n",
    "        elif self.activation == 'tanh':\n",
    "            return 1 - np.tanh(x)**2\n",
    "        return np.ones_like(x)\n",
    "    \n",
    "    def forward(self, X):\n",
    "        activations = [X]\n",
    "        zs = []\n",
    "        for W, b in zip(self.weights, self.biases):\n",
    "            z = activations[-1] @ W + b\n",
    "            zs.append(z)\n",
    "            activations.append(self.activate(z))\n",
    "        return activations, zs\n",
    "    \n",
    "    def backward(self, X, Y, activations, zs):\n",
    "        gradients_w = [np.zeros_like(W) for W in self.weights]\n",
    "        gradients_b = [np.zeros_like(b) for b in self.biases]\n",
    "        \n",
    "        # Compute loss gradient\n",
    "        delta = activations[-1] - Y\n",
    "        \n",
    "        # Backpropagate\n",
    "        for i in reversed(range(len(self.weights))):\n",
    "            gradients_w[i] = activations[i].T @ delta\n",
    "            gradients_b[i] = np.sum(delta, axis=0, keepdims=True)\n",
    "            if i > 0:\n",
    "                delta = (delta @ self.weights[i].T) * self.activate_derivative(zs[i-1])\n",
    "        \n",
    "        return gradients_w, gradients_b\n",
    "    \n",
    "    def update_weights(self, gradients_w, gradients_b, batch_size):\n",
    "        for i in range(len(self.weights)):\n",
    "            self.weights[i] -= self.learning_rate * (gradients_w[i] / batch_size)\n",
    "            self.biases[i] -= self.learning_rate * (gradients_b[i] / batch_size)\n",
    "    \n",
    "    def train(self, X_train, Y_train, epochs=10, batch_size=32):\n",
    "        losses = []\n",
    "        for epoch in range(epochs):\n",
    "            for i in range(0, X_train.shape[0], batch_size):\n",
    "                X_batch = X_train[i:i+batch_size]\n",
    "                Y_batch = Y_train[i:i+batch_size]\n",
    "                activations, zs = self.forward(X_batch)\n",
    "                gradients_w, gradients_b = self.backward(X_batch, Y_batch, activations, zs)\n",
    "                self.update_weights(gradients_w, gradients_b, batch_size)\n",
    "            loss = np.mean((self.forward(X_train)[0][-1] - Y_train) ** 2)\n",
    "            losses.append(loss)\n",
    "            print(f\"Epoch {epoch+1}/{epochs}, Loss: {loss:.4f}\")\n",
    "        \n",
    "        # Plot the loss\n",
    "        plt.plot(range(epochs), losses, label='Train Loss')\n",
    "        plt.xlabel('Epochs')\n",
    "        plt.ylabel('Loss')\n",
    "        plt.title('Training Loss')\n",
    "        plt.legend()\n",
    "        plt.show()\n",
    "    \n",
    "    def predict(self, X):\n",
    "        return self.forward(X)[0][-1] > 0.5"
   ]
  },
  {
   "cell_type": "code",
   "execution_count": 4,
   "metadata": {},
   "outputs": [],
   "source": [
    "# Initialize Data Processing\n",
    "processor = DataProcessor('./train.csv', './test.csv')\n",
    "X_train, X_val, X_test, Y_train, Y_val, Y_test, classes = processor.process_data()\n"
   ]
  },
  {
   "cell_type": "code",
   "execution_count": 5,
   "metadata": {},
   "outputs": [
    {
     "name": "stdout",
     "output_type": "stream",
     "text": [
      "Epoch 1/10, Loss: 0.0115\n",
      "Epoch 2/10, Loss: 0.0114\n",
      "Epoch 3/10, Loss: 0.0113\n",
      "Epoch 4/10, Loss: 0.0111\n",
      "Epoch 5/10, Loss: 0.0109\n",
      "Epoch 6/10, Loss: 0.0106\n",
      "Epoch 7/10, Loss: 0.0101\n",
      "Epoch 8/10, Loss: 0.0097\n",
      "Epoch 9/10, Loss: 0.0094\n",
      "Epoch 10/10, Loss: 0.0091\n"
     ]
    },
    {
     "data": {
      "image/png": "[encoded data removed]",
      "text/plain": [
       "<Figure size 640x480 with 1 Axes>"
      ]
     },
     "metadata": {},
     "output_type": "display_data"
    }
   ],
   "source": [
    "# Train Model\n",
    "mlp = MLP(input_size=5000, hidden_layers=[128, 64], output_size=len(classes), activation='relu', learning_rate=0.01)\n",
    "mlp.train(X_train, Y_train, epochs=10, batch_size=32)\n"
   ]
  },
  {
   "cell_type": "code",
   "execution_count": 6,
   "metadata": {},
   "outputs": [],
   "source": [
    "# Evaluation Metrics\n",
    "def evaluate_model(model, X_test, Y_test):\n",
    "    Y_pred = model.predict(X_test)\n",
    "    acc = accuracy_score(Y_test, Y_pred)\n",
    "    h_loss = hamming_loss(Y_test, Y_pred)\n",
    "    print(f\"Accuracy: {acc:.4f}\")\n",
    "    print(f\"Hamming Loss: {h_loss:.4f}\")\n",
    "    return acc, h_loss\n"
   ]
  },
  {
   "cell_type": "code",
   "execution_count": 7,
   "metadata": {},
   "outputs": [
    {
     "name": "stdout",
     "output_type": "stream",
     "text": [
      "Accuracy: 0.3379\n",
      "Hamming Loss: 0.0101\n"
     ]
    },
    {
     "data": {
      "text/plain": [
       "(0.3378602186154356, 0.010069559456773767)"
      ]
     },
     "execution_count": 7,
     "metadata": {},
     "output_type": "execute_result"
    }
   ],
   "source": [
    "evaluate_model(mlp, X_test, Y_test)"
   ]
  },
  {
   "cell_type": "markdown",
   "metadata": {},
   "source": [
    "# I cannot Report the ordered scores for each combination as I did only a specific combination with Mini Batch because it takes a ton of time and I do not have a GPU"
   ]
  }
 ],
 "metadata": {
  "kernelspec": {
   "display_name": "Python 3",
   "language": "python",
   "name": "python3"
  },
  "language_info": {
   "codemirror_mode": {
    "name": "ipython",
    "version": 3
   },
   "file_extension": ".py",
   "mimetype": "text/x-python",
   "name": "python",
   "nbconvert_exporter": "python",
   "pygments_lexer": "ipython3",
   "version": "3.13.2"
  }
 },
 "nbformat": 4,
 "nbformat_minor": 2
}
